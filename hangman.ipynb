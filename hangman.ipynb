{
 "cells": [
  {
   "cell_type": "markdown",
   "metadata": {},
   "source": [
    "**Create a Letter Guessing Game**\n",
    "\n",
    "Create a program that allows a user 7 chances to guess the correct word. If they do not guess the word after 7 tries, the player loses and the program will print the correct word. Otherwise, the play wins and the game.\n",
    "\n",
    "**How to build the program**\n",
    "* When you start the game, you will need to select a random word from a list of at least 10 words (You have full control over which words you want to use for you program). This will be your secret word. Your secret word will be represented in the program as a group of underscores. For as long as the word is, you should also have that many underscores. \n",
    "\n",
    "* Once the word is selected, your game will commence. Perform a Google search to figure out how to select a random word from a list using Python.<br>\n",
    "**Hint** There's package you can import into your application that does this for you.\n",
    "\n",
    "* The end user will have a total of 7 chances to guess the correct letter from the secret word. If the end user makes 7 incorrect guesses, the game will end.\n",
    "\n",
    "* As you guess the correct letters, the letters you have guess will then take place of the underscores that letter represents. <br>\n",
    "**For Example**: If your secret word is 'watermelon' and  so far you have guessed the letters 'a' and 'e', the word you're trying to guess will appear as follows: _ a _ e _ _ e _ _ _.<br>\n",
    "**Keep in mind** that if you guess a letter that appears more than once in your secret word, make sure that the letter is populated anywhere that letter would be."
   ]
  },
  {
   "cell_type": "code",
   "execution_count": null,
   "metadata": {},
   "outputs": [],
   "source": [
    "# 1. Make a program that selects a word from a list of words\n",
    "\n",
    "# 2. From each category, select a random word\n",
    "\n",
    "# 3. Accept user input that asks the user to type in a category\n",
    "\n",
    "# randomly_selected_word = \"orange\"\n",
    "\n",
    "# 4. _ _ _ _ _ _\n",
    "\n",
    "# 5. if you make a correct choice = \"o\" => o _ _ _ _ _\n",
    "\n",
    "\n",
    "# randomly_selected_word = \"watermelon\"\n",
    "\n",
    "# 6. _ _ _ _ _ _ _ _ _ _ _\n",
    "\n",
    "# 7. if you make a correct choice = \"e\" => _ _ _ e _ _ e _ _ _\n",
    "\n",
    "# 8. 7 attempts\n",
    "\n",
    "# 9. if you exhausted all 7 choices, show the correct word "
   ]
  },
  {
   "cell_type": "code",
   "execution_count": null,
   "metadata": {},
   "outputs": [],
   "source": [
    "word_list = [Peter, James, John, Andrew, Bartholomew, Jude, Matthew, Philip, Simon, Thomas, Paul]"
   ]
  },
  {
   "cell_type": "code",
   "execution_count": null,
   "metadata": {},
   "outputs": [],
   "source": [
    "random.choice()"
   ]
  },
  {
   "cell_type": "code",
   "execution_count": 6,
   "metadata": {},
   "outputs": [
    {
     "name": "stdout",
     "output_type": "stream",
     "text": [
      "_ _ _ _ _ \n",
      "\n",
      "\n",
      "Guess a letter: s\n",
      "S _ _ _ _ Letters used in word bank: ['s']\n",
      "You have 6 tries left.\n",
      "\n",
      "\n",
      "Guess a letter: \n",
      "S _ _ _ _ Letters used in word bank: ['s']\n",
      "You have 6 tries left.\n",
      "\n",
      "\n",
      "Guess a letter: e\n",
      "S _ _ _ _ Letters used in word bank: ['s', 'e']\n",
      "You have 5 tries left.\n",
      "\n",
      "\n",
      "Guess a letter: r\n",
      "S _ _ _ _ Letters used in word bank: ['s', 'e', 'r']\n",
      "You have 4 tries left.\n",
      "\n",
      "\n",
      "Guess a letter: t\n",
      "S _ _ _ _ Letters used in word bank: ['s', 'e', 'r', 't']\n",
      "You have 3 tries left.\n",
      "\n",
      "\n",
      "Guess a letter: y\n",
      "S _ _ _ _ Letters used in word bank: ['s', 'e', 'r', 't', 'y']\n",
      "You have 2 tries left.\n",
      "\n",
      "\n",
      "Guess a letter: u\n",
      "S _ _ _ _ Letters used in word bank: ['s', 'e', 'r', 't', 'y', 'u']\n",
      "You have 1 tries left.\n",
      "\n",
      "\n",
      "Guess a letter: i\n",
      "S i _ _ _ Letters used in word bank: ['s', 'e', 'r', 't', 'y', 'u']\n",
      "You have 1 tries left.\n",
      "\n",
      "\n",
      "Guess a letter: o\n",
      "S i _ o _ Letters used in word bank: ['s', 'e', 'r', 't', 'y', 'u']\n",
      "You have 1 tries left.\n",
      "\n",
      "\n",
      "Guess a letter: p\n",
      "S i _ o _ \n",
      "Sorry! You lost! Your word was Simon\n"
     ]
    }
   ],
   "source": [
    "import random \n",
    "\n",
    "class Hangman():\n",
    "    def __init__(self,name):\n",
    "        self.name = name\n",
    "        self.word_list = ['Peter', 'James', 'John', 'Andrew', 'Bartholomew', 'Jude', 'Matthew', 'Philip', 'Simon', 'Thomas', 'Paul']\n",
    "        self.used = []\n",
    "        self.guessed = []\n",
    "        \n",
    "        \n",
    "    def select_word(self):\n",
    "        tries = 7\n",
    "        word = (random.choice(self.word_list))\n",
    "        word_enumerate = list(enumerate(word))\n",
    "        word_empty = \"_ \" * len(word)\n",
    "        print (word_empty)\n",
    "        \n",
    "        done = False\n",
    "        \n",
    "        while not done:\n",
    "            print('')\n",
    "            print('')\n",
    "            guess = input('Guess a letter: ').lower()\n",
    "            if guess not in self.used:\n",
    "                self.used.append(guess.lower())\n",
    "#                 self.guessed.append(guess.lower())\n",
    "#                 print(f\"Letters used in word bank: {self.guessed}\")\n",
    "                \n",
    "            \n",
    "                \n",
    "                for letter in word:\n",
    "                    if letter.lower() in self.used:\n",
    "                        print(letter, end = ' ')\n",
    "                        \n",
    "                    \n",
    "                    elif letter.lower() not in self.used:\n",
    "                        print('_', end = ' ')\n",
    "                \n",
    "                if guess not in word:\n",
    "                    self.guessed.append(guess.lower())\n",
    "                    tries = 7 - len(self.guessed)\n",
    "                    \n",
    "                    #check\n",
    "                    if tries == 0:\n",
    "                        print('')\n",
    "                        print(f'Sorry! You lost! Your word was {word}')\n",
    "                        break\n",
    "                    #check\n",
    "                    \n",
    "                print(f\"Letters used in word bank: {self.guessed}\")\n",
    "                print(f'You have {tries} tries left.')\n",
    "                \n",
    "            \n",
    "            else:\n",
    "                print(f'\"{guess}\" is already used. Try again.')\n",
    "                #already in word bank \n",
    "                \n",
    "\n",
    "                    \n",
    "    \n",
    "        \n",
    "#         done = True \n",
    "#         for letter in word:\n",
    "#             if letter.lower() not in guess:\n",
    "#                 done = False\n",
    "        \n",
    "\n",
    "hangman = Hangman('hangman')\n",
    "hangman.select_word()\n",
    "\n",
    "\n",
    "    \n",
    "    \n",
    "    \n",
    "    \n",
    "    \n",
    "    "
   ]
  },
  {
   "cell_type": "code",
   "execution_count": 208,
   "metadata": {},
   "outputs": [
    {
     "ename": "NameError",
     "evalue": "name 'u' is not defined",
     "output_type": "error",
     "traceback": [
      "\u001b[0;31m---------------------------------------------------------------------------\u001b[0m",
      "\u001b[0;31mNameError\u001b[0m                                 Traceback (most recent call last)",
      "Input \u001b[0;32mIn [208]\u001b[0m, in \u001b[0;36m<cell line: 1>\u001b[0;34m()\u001b[0m\n\u001b[0;32m----> 1\u001b[0m \u001b[43mu\u001b[49m\n\u001b[1;32m      3\u001b[0m f\n",
      "\u001b[0;31mNameError\u001b[0m: name 'u' is not defined"
     ]
    }
   ],
   "source": [
    "u\n",
    "\n",
    "f"
   ]
  },
  {
   "cell_type": "code",
   "execution_count": null,
   "metadata": {},
   "outputs": [],
   "source": []
  },
  {
   "cell_type": "code",
   "execution_count": null,
   "metadata": {},
   "outputs": [],
   "source": []
  }
 ],
 "metadata": {
  "kernelspec": {
   "display_name": "Python 3.10.8 64-bit",
   "language": "python",
   "name": "python3"
  },
  "language_info": {
   "codemirror_mode": {
    "name": "ipython",
    "version": 3
   },
   "file_extension": ".py",
   "mimetype": "text/x-python",
   "name": "python",
   "nbconvert_exporter": "python",
   "pygments_lexer": "ipython3",
   "version": "3.10.8"
  },
  "vscode": {
   "interpreter": {
    "hash": "aee8b7b246df8f9039afb4144a1f6fd8d2ca17a180786b69acc140d282b71a49"
   }
  }
 },
 "nbformat": 4,
 "nbformat_minor": 2
}
